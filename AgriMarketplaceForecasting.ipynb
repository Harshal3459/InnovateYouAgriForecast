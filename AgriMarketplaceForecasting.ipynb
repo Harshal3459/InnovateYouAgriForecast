{
  "cells": [
    {
      "cell_type": "code",
      "execution_count": null,
      "metadata": {
        "colab": {
          "base_uri": "https://localhost:8080/"
        },
        "id": "dJtj-Kz_qQQe",
        "outputId": "86389735-4e82-44e3-8845-802064bf0d6e"
      },
      "outputs": [
        {
          "name": "stdout",
          "output_type": "stream",
          "text": [
            "Mounted at /content/drive\n"
          ]
        },
        {
          "name": "stderr",
          "output_type": "stream",
          "text": [
            "<ipython-input-1-c99e6125c82f>:6: DtypeWarning: Columns (5) have mixed types. Specify dtype option on import or set low_memory=False.\n",
            "  raw_data = pd.read_csv(\"/content/drive/MyDrive/Min/all_min.csv\")\n"
          ]
        }
      ],
      "source": []
    },
    {
      "cell_type": "code",
      "execution_count": null,
      "metadata": {
        "colab": {
          "base_uri": "https://localhost:8080/"
        },
        "id": "t_HU2MRAqV9f",
        "outputId": "71ad2d71-fa5d-4f41-9fec-bb2ba2f5789c"
      },
      "outputs": [
        {
          "output_type": "stream",
          "name": "stdout",
          "text": [
            "Drive already mounted at /content/drive; to attempt to forcibly remount, call drive.mount(\"/content/drive\", force_remount=True).\n",
            "                Market Arrival Date  Arrivals (Tonnes) Variety  \\\n",
            "0  ACF Agro Marketing    26-04-2024              91.85  Cotton   \n",
            "1  ACF Agro Marketing    27-04-2024              79.02  Cotton   \n",
            "2  ACF Agro Marketing    30-04-2024              80.62  Cotton   \n",
            "3        Akhadabalapur   01-04-2024              14.60  Cotton   \n",
            "4                Akola   01-04-2024               3.50  Cotton   \n",
            "\n",
            "  Minimum Price(Rs./Quintal)  \n",
            "0                       6400  \n",
            "1                       6700  \n",
            "2                       6800  \n",
            "3                       6700  \n",
            "4                       7425  \n"
          ]
        }
      ],
      "source": [
        "from google.colab import drive\n",
        "import pandas as pd\n",
        "import numpy as np\n",
        "drive.mount(\"/content/drive\")\n",
        "raw_data = pd.read_csv(\"/content/drive/MyDrive/Min/all_min.csv\", index_col = 0)\n",
        "print(raw_data.head())"
      ]
    },
    {
      "cell_type": "code",
      "execution_count": null,
      "metadata": {
        "id": "X-7WWb20qxuO"
      },
      "outputs": [],
      "source": [
        "import pandas as pd\n",
        "import numpy as np\n",
        "from sklearn.preprocessing import MinMaxScaler\n",
        "raw_data = raw_data[~(raw_data[\"Minimum Price(Rs./Quintal)\"] == \"NR\")]\n",
        "raw_data[\"Minimum Price(Rs./Quintal)\"] = raw_data[\"Minimum Price(Rs./Quintal)\"].astype(dtype = np.float64)\n",
        "raw_data[\"Minimum Price(Rs./Quintal)\"] = raw_data[\"Minimum Price(Rs./Quintal)\"].astype(dtype = np.int64)\n",
        "\n",
        "def standardize_date(date_str):\n",
        "\n",
        "  if isinstance(date_str, str):\n",
        "    if '-' in date_str and len(date_str.split('-')[0]) == 2:\n",
        "      return pd.to_datetime(date_str, format='%d-%m-%Y')\n",
        "    return pd.to_datetime(date_str)\n",
        "  return pd.to_datetime(date_str)\n",
        "\n",
        "raw_data['Arrival Date'] = raw_data['Arrival Date'].apply(standardize_date)\n",
        "raw_data = raw_data.sort_values(['Market', 'Variety', 'Arrival Date'])"
      ]
    },
    {
      "cell_type": "code",
      "execution_count": null,
      "metadata": {
        "colab": {
          "base_uri": "https://localhost:8080/"
        },
        "id": "xcLMc8fpvKtB",
        "outputId": "5f582d22-d372-4ccb-ad65-59c83628baa1"
      },
      "outputs": [
        {
          "output_type": "stream",
          "name": "stdout",
          "text": [
            "        Market                   Arrival Date  Arrivals (Tonnes)   Variety  \\\n",
            "count   165841                         165841      165841.000000    165841   \n",
            "unique     320                            NaN                NaN        10   \n",
            "top     Mumbai                            NaN                NaN  Soyabean   \n",
            "freq      2591                            NaN                NaN     44621   \n",
            "mean       NaN  2024-01-12 09:24:37.827557632          49.294928       NaN   \n",
            "min        NaN            2023-01-01 00:00:00           0.010000       NaN   \n",
            "25%        NaN            2023-07-15 00:00:00           2.000000       NaN   \n",
            "50%        NaN            2024-01-04 00:00:00           7.200000       NaN   \n",
            "75%        NaN            2024-07-12 00:00:00          33.000000       NaN   \n",
            "max        NaN            2024-12-31 00:00:00        6426.000000       NaN   \n",
            "std        NaN                            NaN         148.832694       NaN   \n",
            "\n",
            "        Minimum Price(Rs./Quintal)  \n",
            "count                165841.000000  \n",
            "unique                         NaN  \n",
            "top                            NaN  \n",
            "freq                           NaN  \n",
            "mean                   3215.309947  \n",
            "min                       2.000000  \n",
            "25%                    2100.000000  \n",
            "50%                    2530.000000  \n",
            "75%                    4200.000000  \n",
            "max                  110000.000000  \n",
            "std                    1513.724291  \n"
          ]
        }
      ],
      "source": [
        "print(raw_data.describe(include = 'all'))"
      ]
    },
    {
      "cell_type": "code",
      "execution_count": null,
      "metadata": {
        "id": "VUgFPTyNveOS"
      },
      "outputs": [],
      "source": [
        "#raw_data = raw_data[\"Minimum Price(Rs./Quintal)\"].astype(dtype = np.float64)\n",
        "raw_data = raw_data[~(raw_data[\"Minimum Price(Rs./Quintal)\"] == \"NR\")]"
      ]
    },
    {
      "cell_type": "code",
      "execution_count": null,
      "metadata": {
        "id": "cNbvA68WxDLs"
      },
      "outputs": [],
      "source": [
        "raw_data[\"Minimum Price(Rs./Quintal)\"] = raw_data[\"Minimum Price(Rs./Quintal)\"].astype(dtype = np.float64)\n",
        "raw_data[\"Minimum Price(Rs./Quintal)\"] = raw_data[\"Minimum Price(Rs./Quintal)\"].astype(dtype = np.int64)"
      ]
    },
    {
      "cell_type": "code",
      "execution_count": null,
      "metadata": {
        "colab": {
          "base_uri": "https://localhost:8080/"
        },
        "id": "zzGWkjjBxfbE",
        "outputId": "edb4fe10-0872-4440-d1fa-5986019b78f9"
      },
      "outputs": [
        {
          "output_type": "stream",
          "name": "stdout",
          "text": [
            "                        Arrival Date  Arrivals (Tonnes)  \\\n",
            "count                         165841      165841.000000   \n",
            "mean   2024-01-12 09:24:37.827557632          49.294928   \n",
            "min              2023-01-01 00:00:00           0.010000   \n",
            "25%              2023-07-15 00:00:00           2.000000   \n",
            "50%              2024-01-04 00:00:00           7.200000   \n",
            "75%              2024-07-12 00:00:00          33.000000   \n",
            "max              2024-12-31 00:00:00        6426.000000   \n",
            "std                              NaN         148.832694   \n",
            "\n",
            "       Minimum Price(Rs./Quintal)  \n",
            "count               165841.000000  \n",
            "mean                  3215.309947  \n",
            "min                      2.000000  \n",
            "25%                   2100.000000  \n",
            "50%                   2530.000000  \n",
            "75%                   4200.000000  \n",
            "max                 110000.000000  \n",
            "std                   1513.724291  \n"
          ]
        }
      ],
      "source": [
        "print(raw_data.describe())"
      ]
    },
    {
      "cell_type": "code",
      "execution_count": null,
      "metadata": {
        "id": "QHoLUzBlxx_b"
      },
      "outputs": [],
      "source": [
        "# Sort the data by Market, Variety, and Arrival Date\n",
        "raw_data = raw_data.sort_values(['Market', 'Variety', 'Arrival Date'])"
      ]
    },
    {
      "cell_type": "code",
      "execution_count": null,
      "metadata": {
        "colab": {
          "base_uri": "https://localhost:8080/"
        },
        "id": "08V4Re8myvwZ",
        "outputId": "7a4e6139-0b47-46f7-a992-d7a3f5f6b571"
      },
      "outputs": [
        {
          "output_type": "stream",
          "name": "stdout",
          "text": [
            "                    Market Arrival Date  Arrivals (Tonnes) Variety  \\\n",
            "8550   ACF Agro Marketing    2023-01-07              87.95  Cotton   \n",
            "10488  ACF Agro Marketing    2023-01-08             132.21  Cotton   \n",
            "8551   ACF Agro Marketing    2023-02-07             229.18  Cotton   \n",
            "8552   ACF Agro Marketing    2023-03-07             185.90  Cotton   \n",
            "8553   ACF Agro Marketing    2023-04-07              98.96  Cotton   \n",
            "\n",
            "       Minimum Price(Rs./Quintal)  \n",
            "8550                         6700  \n",
            "10488                        6700  \n",
            "8551                         6800  \n",
            "8552                         6800  \n",
            "8553                         6800  \n"
          ]
        }
      ],
      "source": [
        "print(raw_data.head())"
      ]
    },
    {
      "cell_type": "markdown",
      "metadata": {
        "id": "zymdoc5OeLfQ"
      },
      "source": []
    },
    {
      "cell_type": "code",
      "execution_count": null,
      "metadata": {
        "id": "r9dIgRg22XOp"
      },
      "outputs": [],
      "source": [
        "raw_data['Year'] = raw_data['Arrival Date'].dt.year\n",
        "raw_data['Month'] = raw_data['Arrival Date'].dt.month\n",
        "raw_data['Day'] = raw_data['Arrival Date'].dt.day\n",
        "raw_data['Quarter'] = raw_data['Arrival Date'].dt.quarter\n",
        "raw_data['DayOfWeek'] = raw_data['Arrival Date'].dt.dayofweek"
      ]
    },
    {
      "cell_type": "code",
      "source": [
        "for lag in range(1, 4):\n",
        "    raw_data[f'Lag_{lag}'] = raw_data.groupby(['Market', 'Variety'])['Minimum Price(Rs./Quintal)'].shift(lag)\n",
        "\n",
        "raw_data = raw_data.dropna()"
      ],
      "metadata": {
        "id": "pGYJ2GgJkvGX"
      },
      "execution_count": null,
      "outputs": []
    },
    {
      "cell_type": "code",
      "source": [
        "rolling_windows = {\n",
        "    'Rolling_Mean_7': 7,\n",
        "    'Rolling_Mean_14': 14,\n",
        "    'Rolling_Mean_30': 30,\n",
        "    'Rolling_Std_7': 7,\n",
        "    'Rolling_Std_14': 14,\n",
        "    'Rolling_Std_30': 30,\n",
        "    'Arrival_Rolling_mean_3': 3\n",
        "}\n",
        "\n",
        "for window_name, window_size in rolling_windows.items():\n",
        "    if 'Mean' in window_name:\n",
        "        raw_data[window_name] = raw_data.groupby(['Market', 'Variety'])['Minimum Price(Rs./Quintal)'].transform(\n",
        "            lambda x: x.rolling(window=window_size, min_periods=1).mean()\n",
        "        )\n",
        "    elif 'Std' in window_name:\n",
        "        raw_data[window_name] = raw_data.groupby(['Market', 'Variety'])['Minimum Price(Rs./Quintal)'].transform(\n",
        "            lambda x: x.rolling(window=window_size, min_periods=1).std()\n",
        "        )\n",
        "    else:\n",
        "        raw_data[window_name] = raw_data.groupby(['Market', 'Variety'])['Arrivals (Tonnes)'].transform(\n",
        "            lambda x: x.rolling(window=window_size, min_periods=1).mean()\n",
        "        )"
      ],
      "metadata": {
        "id": "b6SyKaUaltb5"
      },
      "execution_count": null,
      "outputs": []
    },
    {
      "cell_type": "code",
      "source": [
        "raw_data['Market'] = raw_data['Market'].astype('category')\n",
        "raw_data['Variety'] = raw_data['Variety'].astype('category')"
      ],
      "metadata": {
        "id": "XoAxL8IomNFp"
      },
      "execution_count": null,
      "outputs": []
    },
    {
      "cell_type": "code",
      "source": [
        "print(raw_data.describe(include = 'all'))"
      ],
      "metadata": {
        "colab": {
          "base_uri": "https://localhost:8080/"
        },
        "id": "xxbWm5QleChW",
        "outputId": "3febb9aa-7453-4504-df0a-96a8c49d9345"
      },
      "execution_count": null,
      "outputs": [
        {
          "output_type": "stream",
          "name": "stdout",
          "text": [
            "        Market                   Arrival Date  Arrivals (Tonnes)   Variety  \\\n",
            "count   162411                         162411      162411.000000    162411   \n",
            "unique     309                            NaN                NaN        10   \n",
            "top     Mumbai                            NaN                NaN  Soyabean   \n",
            "freq      2572                            NaN                NaN     43900   \n",
            "mean       NaN  2024-01-18 02:29:51.056024576          49.810078       NaN   \n",
            "min        NaN            2023-01-03 00:00:00           0.010000       NaN   \n",
            "25%        NaN            2023-07-24 00:00:00           2.000000       NaN   \n",
            "50%        NaN            2024-01-11 00:00:00           7.500000       NaN   \n",
            "75%        NaN            2024-07-18 00:00:00          33.850000       NaN   \n",
            "max        NaN            2024-12-31 00:00:00        6426.000000       NaN   \n",
            "std        NaN                            NaN         149.903025       NaN   \n",
            "\n",
            "        Minimum Price(Rs./Quintal)           Year          Month  \\\n",
            "count                162411.000000  162411.000000  162411.000000   \n",
            "unique                         NaN            NaN            NaN   \n",
            "top                            NaN            NaN            NaN   \n",
            "freq                           NaN            NaN            NaN   \n",
            "mean                   3210.607213    2023.513321       6.938391   \n",
            "min                       6.000000    2023.000000       1.000000   \n",
            "25%                    2100.000000    2023.000000       4.000000   \n",
            "50%                    2530.000000    2024.000000       7.000000   \n",
            "75%                    4200.000000    2024.000000      10.000000   \n",
            "max                  110000.000000    2024.000000      12.000000   \n",
            "std                    1507.964856       0.499824       3.470849   \n",
            "\n",
            "                  Day        Quarter      DayOfWeek          Lag_1  \\\n",
            "count   162411.000000  162411.000000  162411.000000  162411.000000   \n",
            "unique            NaN            NaN            NaN            NaN   \n",
            "top               NaN            NaN            NaN            NaN   \n",
            "freq              NaN            NaN            NaN            NaN   \n",
            "mean        15.481027       2.628769       2.588365    3211.692182   \n",
            "min          1.000000       1.000000       0.000000       6.000000   \n",
            "25%          7.000000       2.000000       1.000000    2100.000000   \n",
            "50%         16.000000       3.000000       3.000000    2527.000000   \n",
            "75%         23.000000       4.000000       4.000000    4200.000000   \n",
            "max         31.000000       4.000000       6.000000  110000.000000   \n",
            "std          9.006265       1.140949       1.786303    1509.380603   \n",
            "\n",
            "                Lag_2          Lag_3  Rolling_Mean_7  Rolling_Mean_14  \\\n",
            "count   162411.000000  162411.000000   162411.000000    162411.000000   \n",
            "unique            NaN            NaN             NaN              NaN   \n",
            "top               NaN            NaN             NaN              NaN   \n",
            "freq              NaN            NaN             NaN              NaN   \n",
            "mean      3212.853169    3214.200559     3214.577048      3219.362651   \n",
            "min          6.000000       2.000000     1000.142857      1055.071429   \n",
            "25%       2100.000000    2100.000000     2128.571429      2130.357143   \n",
            "50%       2526.000000    2525.000000     2521.428571      2514.285714   \n",
            "75%       4200.000000    4200.000000     4200.000000      4214.285714   \n",
            "max     110000.000000  110000.000000    20857.142857     13428.571429   \n",
            "std       1511.066242    1512.788769     1457.877834      1456.349359   \n",
            "\n",
            "        Rolling_Mean_30  Rolling_Std_7  Rolling_Std_14  Rolling_Std_30  \\\n",
            "count     162411.000000  161334.000000   161334.000000   161334.000000   \n",
            "unique              NaN            NaN             NaN             NaN   \n",
            "top                 NaN            NaN             NaN             NaN   \n",
            "freq                NaN            NaN             NaN             NaN   \n",
            "mean        3228.814414     210.054351      235.345858      264.670480   \n",
            "min         1098.000000       0.000000        0.000000        0.000000   \n",
            "25%         2132.283333      75.592895      100.803891      126.180915   \n",
            "50%         2505.000000     145.456834      171.688584      198.055325   \n",
            "75%         4248.183333     256.772018      282.184405      319.096363   \n",
            "max        10000.000000   39308.305193    27795.169159    18987.715327   \n",
            "std         1460.437859     383.185917      378.413387      375.750029   \n",
            "\n",
            "        Arrival_Rolling_mean_3  \n",
            "count            162411.000000  \n",
            "unique                     NaN  \n",
            "top                        NaN  \n",
            "freq                       NaN  \n",
            "mean                 49.661490  \n",
            "min                   0.023333  \n",
            "25%                   2.500000  \n",
            "50%                   8.433333  \n",
            "75%                  36.000000  \n",
            "max                5360.666667  \n",
            "std                 141.226589  \n"
          ]
        }
      ]
    },
    {
      "cell_type": "code",
      "source": [
        "raw_data.to_csv(\"/content/drive/MyDrive/EngineeredData.csv\")"
      ],
      "metadata": {
        "id": "tNcrYV3xeBmy"
      },
      "execution_count": null,
      "outputs": []
    },
    {
      "cell_type": "code",
      "source": [
        "X = raw_data.drop(columns=['Minimum Price(Rs./Quintal)', 'Arrival Date'])\n",
        "y = raw_data['Minimum Price(Rs./Quintal)']\n",
        "\n",
        "from sklearn.model_selection import train_test_split\n",
        "X_train, X_val, y_train, y_val = train_test_split(X, y, test_size=0.2, random_state=42)"
      ],
      "metadata": {
        "id": "_fV6MRpZmtC1"
      },
      "execution_count": null,
      "outputs": []
    },
    {
      "cell_type": "code",
      "source": [
        "import xgboost as xgb\n",
        "\n",
        "model = xgb.XGBRegressor(\n",
        "    objective='reg:squarederror',\n",
        "    n_estimators=100,\n",
        "    learning_rate=0.1,\n",
        "    max_depth=5,\n",
        "    enable_categorical=True\n",
        ")\n",
        "\n",
        "model.fit(X_train, y_train)\n",
        "y_pred_val = model.predict(X_val)\n",
        "y_pred_train = model.predict(X_train)\n",
        "\n",
        "from sklearn.metrics import mean_squared_error, mean_absolute_percentage_error, mean_absolute_error\n",
        "print(mean_absolute_percentage_error(y_val, y_pred_val))\n",
        "mse = mean_squared_error(y_val, y_pred_val)\n",
        "print(mean_absolute_error(y_val, y_pred_val))\n",
        "\n",
        "print(mean_absolute_percentage_error(y_train, y_pred_train))"
      ],
      "metadata": {
        "colab": {
          "base_uri": "https://localhost:8080/"
        },
        "id": "TgCCnqjMmwjj",
        "outputId": "0fdfd0d0-22f1-443e-c8c2-8406008ded20"
      },
      "execution_count": null,
      "outputs": [
        {
          "output_type": "stream",
          "name": "stdout",
          "text": [
            "0.06057712435722351\n",
            "158.7999725341797\n",
            "0.06291460990905762\n"
          ]
        }
      ]
    },
    {
      "cell_type": "code",
      "source": [],
      "metadata": {
        "id": "18f-ctRJl_jt"
      },
      "execution_count": null,
      "outputs": []
    },
    {
      "cell_type": "code",
      "source": [
        "def predict_future(model, raw_data, n_future_steps, target_market, target_variety):\n",
        "\n",
        "    historical_data = raw_data[\n",
        "        (raw_data['Market'] == target_market) &\n",
        "        (raw_data['Variety'] == target_variety)\n",
        "    ]\n",
        "\n",
        "\n",
        "    initial_data = historical_data.iloc[[-1]].drop(columns=['Minimum Price(Rs./Quintal)', 'Arrival Date'])\n",
        "    initial_data['Market'] = initial_data['Market'].astype('category')\n",
        "    initial_data['Variety'] = initial_data['Variety'].astype('category')\n",
        "\n",
        "    historical_prices = historical_data['Minimum Price(Rs./Quintal)']\n",
        "\n",
        "    predictions = []\n",
        "    current_data = initial_data.copy()\n",
        "\n",
        "    rolling_window_7 = historical_prices.tail(7).tolist()\n",
        "    rolling_window_14 = historical_prices.tail(14).tolist()\n",
        "    rolling_window_30 = historical_prices.tail(30).tolist()\n",
        "\n",
        "    rolling_std_window_7 = historical_prices.tail(7).tolist()\n",
        "    rolling_std_window_14 = historical_prices.tail(14).tolist()\n",
        "    rolling_std_window_30 = historical_prices.tail(30).tolist()\n",
        "\n",
        "    arrival_rolling_window_3 = historical_data['Arrivals (Tonnes)'].tail(3).tolist()\n",
        "\n",
        "    latest_prices = historical_prices.tail(3).tolist()\n",
        "    current_data['Lag_1'] = latest_prices[-1]\n",
        "    current_data['Lag_2'] = latest_prices[-2]\n",
        "    current_data['Lag_3'] = latest_prices[-3]\n",
        "\n",
        "    for _ in range(n_future_steps):\n",
        "\n",
        "        next_arrival = np.mean(arrival_rolling_window_3)\n",
        "        current_data['Arrivals (Tonnes)'] = next_arrival\n",
        "\n",
        "        arrival_rolling_window_3.append(next_arrival)\n",
        "        if len(arrival_rolling_window_3) > 3:\n",
        "            arrival_rolling_window_3.pop(0)\n",
        "        current_data['Arrival_Rolling_mean_3'] = np.mean(arrival_rolling_window_3)\n",
        "\n",
        "        next_price = model.predict(current_data)[0]\n",
        "        predictions.append(next_price)\n",
        "\n",
        "        current_data['Lag_3'] = current_data['Lag_2']\n",
        "        current_data['Lag_2'] = current_data['Lag_1']\n",
        "        current_data['Lag_1'] = next_price\n",
        "\n",
        "        rolling_window_7.append(next_price)\n",
        "        rolling_window_14.append(next_price)\n",
        "        rolling_window_30.append(next_price)\n",
        "\n",
        "        rolling_std_window_7.append(next_price)\n",
        "        rolling_std_window_14.append(next_price)\n",
        "        rolling_std_window_30.append(next_price)\n",
        "\n",
        "        if len(rolling_window_7) > 7:\n",
        "            rolling_window_7.pop(0)\n",
        "        if len(rolling_window_14) > 14:\n",
        "            rolling_window_14.pop(0)\n",
        "        if len(rolling_window_30) > 30:\n",
        "            rolling_window_30.pop(0)\n",
        "\n",
        "        if len(rolling_std_window_7) > 7:\n",
        "            rolling_std_window_7.pop(0)\n",
        "        if len(rolling_std_window_14) > 14:\n",
        "            rolling_std_window_14.pop(0)\n",
        "        if len(rolling_std_window_30) > 30:\n",
        "            rolling_std_window_30.pop(0)\n",
        "\n",
        "        current_data['Rolling_Mean_7'] = np.mean(rolling_window_7)\n",
        "        current_data['Rolling_Mean_14'] = np.mean(rolling_window_14)\n",
        "        current_data['Rolling_Mean_30'] = np.mean(rolling_window_30)\n",
        "\n",
        "        current_data['Rolling_Std_7'] = np.std(rolling_std_window_7)\n",
        "        current_data['Rolling_Std_14'] = np.std(rolling_std_window_14)\n",
        "        current_data['Rolling_Std_30'] = np.std(rolling_std_window_30)\n",
        "\n",
        "        current_data['Market'] = current_data['Market'].astype('category')\n",
        "        current_data['Variety'] = current_data['Variety'].astype('category')\n",
        "\n",
        "    return predictions"
      ],
      "metadata": {
        "id": "RoCCovrSnjgc"
      },
      "execution_count": null,
      "outputs": []
    },
    {
      "cell_type": "code",
      "source": [
        "n_future_steps = 7\n",
        "target_market = \"Mumbai\"\n",
        "target_variety = \"Sugar\"\n",
        "\n",
        "future_predictions = predict_future(model, raw_data, n_future_steps, target_market, target_variety)\n",
        "\n",
        "print(f'Predicted prices for {target_market} ({target_variety}) for the next {n_future_steps} days:')\n",
        "print(future_predictions)"
      ],
      "metadata": {
        "colab": {
          "base_uri": "https://localhost:8080/"
        },
        "id": "M5DS8o3xnrKo",
        "outputId": "d61390dd-2b52-4f37-f81a-69792d22228c"
      },
      "execution_count": null,
      "outputs": [
        {
          "output_type": "stream",
          "name": "stdout",
          "text": [
            "Predicted prices for Mumbai (Sugar) for the next 7 days:\n",
            "[2010.9707, 2010.9707, 2010.9707, 2012.7432, 2012.7432, 2012.7432, 2034.4119]\n"
          ]
        }
      ]
    },
    {
      "cell_type": "code",
      "source": [
        "import joblib\n",
        "joblib.dump(model, '/content/drive/MyDrive/aissmspricemodel.pkl')"
      ],
      "metadata": {
        "colab": {
          "base_uri": "https://localhost:8080/"
        },
        "id": "w8nlO5E1o2Q4",
        "outputId": "5f2e09f6-285b-4b27-a460-1e9eda90126e"
      },
      "execution_count": null,
      "outputs": [
        {
          "output_type": "execute_result",
          "data": {
            "text/plain": [
              "['/content/drive/MyDrive/aissmspricemodel.pkl']"
            ]
          },
          "metadata": {},
          "execution_count": 45
        }
      ]
    },
    {
      "cell_type": "code",
      "source": [],
      "metadata": {
        "id": "fDgOy6zFEY2B"
      },
      "execution_count": null,
      "outputs": []
    }
  ],
  "metadata": {
    "accelerator": "GPU",
    "colab": {
      "gpuType": "T4",
      "provenance": []
    },
    "kernelspec": {
      "display_name": "Python 3",
      "name": "python3"
    },
    "language_info": {
      "name": "python"
    }
  },
  "nbformat": 4,
  "nbformat_minor": 0
}